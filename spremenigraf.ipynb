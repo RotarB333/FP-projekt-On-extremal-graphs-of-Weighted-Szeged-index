{
 "cells": [
  {
   "cell_type": "code",
   "execution_count": 9,
   "metadata": {
    "collapsed": false
   },
   "outputs": [
   ],
   "source": [
    "def wSz(M):\n",
    "    indeks = []\n",
    "    for u,v in M.edges(labels = false):\n",
    "        blizu_u = 0\n",
    "        for a in M.vertices():\n",
    "            if M.distance(a,u)< M.distance(a,v):\n",
    "                blizu_u += 1\n",
    "            blizu_v = order(M)- blizu_u\n",
    "        indeks += [(M.degree(u) + M.degree(v)) * blizu_u * blizu_v]\n",
    "    return sum(indeks)"
   ]
  },
  {
   "cell_type": "code",
   "execution_count": 74,
   "metadata": {
    "collapsed": false
   },
   "outputs": [
   ],
   "source": [
    "from sage.graphs.connectivity import is_connected\n",
    "def spremeni_graf(G):\n",
    "    H = Graph(G)\n",
    "    if random() < 0.5:\n",
    "        i = 0\n",
    "        while True:\n",
    "            H.delete_edge(H.random_edge())\n",
    "            if is_connected(H):\n",
    "                H\n",
    "                break\n",
    "            else:\n",
    "                H = Graph(G)\n",
    "                i = i + 1\n",
    "                True\n",
    "            if i > 15: #Št. poskusov odstranitve\n",
    "                H.add_edge(H.complement().random_edge()) #Grafu H doda random povezavo, ki je še ni v grafu (izbira povezave iz komplementa grafa H)\n",
    "                break\n",
    "    else:\n",
    "        if H.complement().size() == 0: #Če je število povezav v komplementu == 0\n",
    "            H.delete_edge(H.random_edge()) # Grafu H zbriše random povezavo\n",
    "        else:\n",
    "            H.add_edge(H.complement().random_edge()) # Graf H doda povezavo, ki je še ni v grafu (izbira med povezavami v komplementu)\n",
    "    M = Graph(H)\n",
    "    while True:\n",
    "        M.delete_edge(M.random_edge())\n",
    "        if is_connected(M):\n",
    "            M\n",
    "            break\n",
    "        else:\n",
    "            M = Graph(H)\n",
    "    return M"
   ]
  },
  {
   "cell_type": "code",
   "execution_count": 80,
   "metadata": {
    "collapsed": false
   },
   "outputs": [
    {
     "data": {
      "image/png": "[encoded data removed]",
      "text/plain": [
       "Graph on 7 vertices"
      ]
     },
     "execution_count": 80,
     "metadata": {
     },
     "output_type": "execute_result"
    }
   ],
   "source": [
    "H = Graph([(0, 1), (1, 2),(0,3),(3,4),(0,5),(5,6)])\n",
    "spremeni_graf(H)"
   ]
  },
  {
   "cell_type": "code",
   "execution_count": 82,
   "metadata": {
    "collapsed": false
   },
   "outputs": [
   ],
   "source": [
    "def min_wSz_novo_vozlisce(G):\n",
    "    novo = order(G)\n",
    "    G.add_edge((0,novo,None))\n",
    "    k = 0\n",
    "    zacetniG = G\n",
    "    return wSz(G)"
   ]
  },
  {
   "cell_type": "code",
   "execution_count": 0,
   "metadata": {
    "collapsed": false
   },
   "outputs": [
   ],
   "source": [
   ]
  },
  {
   "cell_type": "code",
   "execution_count": 0,
   "metadata": {
    "collapsed": false
   },
   "outputs": [
   ],
   "source": [
   ]
  }
 ],
 "metadata": {
  "kernelspec": {
   "display_name": "SageMath (stable)",
   "language": "sagemath",
   "metadata": {
    "cocalc": {
     "description": "Open-source mathematical software system",
     "priority": 10,
     "url": "https://www.sagemath.org/"
    }
   },
   "name": "sagemath"
  },
  "language_info": {
   "codemirror_mode": {
    "name": "ipython",
    "version": 2
   },
   "file_extension": ".py",
   "mimetype": "text/x-python",
   "name": "python",
   "nbconvert_exporter": "python",
   "pygments_lexer": "ipython2",
   "version": "2.7.15"
  }
 },
 "nbformat": 4,
 "nbformat_minor": 0
}