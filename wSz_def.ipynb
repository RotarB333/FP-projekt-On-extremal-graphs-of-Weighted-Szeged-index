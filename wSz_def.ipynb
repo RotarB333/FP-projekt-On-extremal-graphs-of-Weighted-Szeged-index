def wSz(M):
    indeks = 0
    for u,v in M.edges(labels = false):
        vsota = M.degree(u) + M.degree(v)
        blizu_u = 0
        blizu_v = 0
        for a in M.vertices():
            if M.distance(a,u)< M.distance(a,v):
                blizu_u += 1
            else:
                blizu_v += 1
        indeks += vsota * blizu_u * blizu_v
    return indeks
